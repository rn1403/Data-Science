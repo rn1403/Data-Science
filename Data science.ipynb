{
  "metadata": {
    "kernelspec": {
      "name": "python",
      "display_name": "Python (Pyodide)",
      "language": "python"
    },
    "language_info": {
      "codemirror_mode": {
        "name": "python",
        "version": 3
      },
      "file_extension": ".py",
      "mimetype": "text/x-python",
      "name": "python",
      "nbconvert_exporter": "python",
      "pygments_lexer": "ipython3",
      "version": "3.8"
    }
  },
  "nbformat_minor": 4,
  "nbformat": 4,
  "cells": [
    {
      "cell_type": "markdown",
      "source": "# Introduction to Data Science ",
      "metadata": {}
    },
    {
      "cell_type": "markdown",
      "source": "## Introduction\n\nIn this notebook, we explore various data science tools and their applications. Understanding these tools is essential for anyone interested in data analysis and machine learning.\n",
      "metadata": {}
    },
    {
      "cell_type": "markdown",
      "source": "## Data Science Languages\n\n- Python\n- R\n- Julia\n- SQL\n\n",
      "metadata": {}
    },
    {
      "cell_type": "markdown",
      "source": "## Data Science Libraries\n\n- NumPy\n- Pandas\n- Scikit-learn\n- Matplotlib\n",
      "metadata": {}
    },
    {
      "cell_type": "markdown",
      "source": "## Data Science Tools\n\n| Tool        | Description                 |\n|-------------|-----------------------------|\n| Jupyter     | Interactive notebooks       |\n| TensorFlow  | Machine learning library    |\n| Spark       | Distributed data processing |\n| Tableau     | Data visualization tool     |\n",
      "metadata": {}
    },
    {
      "cell_type": "markdown",
      "source": "## Arithmetic Expression Examples\n\nWe will demonstrate basic arithmetic operations such as addition, subtraction, multiplication, and division in this notebook.\n",
      "metadata": {}
    },
    {
      "cell_type": "markdown",
      "source": "# Multiply and add numbers",
      "metadata": {}
    },
    {
      "cell_type": "code",
      "source": "a = 5\nb = 10\nc = a * b\nd = a + b\nprint(f\"Multiplication result: {c}\")\nprint(f\"Addition result: {d}\")\n",
      "metadata": {
        "trusted": true
      },
      "outputs": [
        {
          "name": "stdout",
          "text": "Multiplication result: 50\nAddition result: 15\n",
          "output_type": "stream"
        }
      ],
      "execution_count": 17
    },
    {
      "cell_type": "markdown",
      "source": "# Convert minutes to hours\n\n",
      "metadata": {}
    },
    {
      "cell_type": "code",
      "source": "minutes = 120\nhours = minutes / 60\nprint(f\"{minutes} minutes is equal to {hours} hours\")",
      "metadata": {
        "trusted": true
      },
      "outputs": [
        {
          "name": "stdout",
          "text": "120 minutes is equal to 2.0 hours\n",
          "output_type": "stream"
        }
      ],
      "execution_count": 18
    },
    {
      "cell_type": "markdown",
      "source": "## Objectives\n\n- Introduce fundamental data science tools and languages.\n- Demonstrate basic arithmetic operations in Python.\n- Showcase conversion of units using simple Python scripts.\n",
      "metadata": {}
    },
    {
      "cell_type": "markdown",
      "source": "## Author\n\nJohn Doe\n",
      "metadata": {}
    },
    {
      "cell_type": "code",
      "source": "",
      "metadata": {
        "trusted": true
      },
      "outputs": [],
      "execution_count": null
    }
  ]
}